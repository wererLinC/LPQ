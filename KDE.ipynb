{
 "cells": [
  {
   "cell_type": "code",
   "execution_count": 1,
   "metadata": {},
   "outputs": [
    {
     "name": "stdout",
     "output_type": "stream",
     "text": [
      "平均消耗的时间为 0.625683069229126\n",
      "平均消耗的时间为 0.613466763496399\n",
      "平均消耗的时间为 0.6170565843582153\n",
      "平均消耗的时间为 0.6158243656158447\n",
      "平均消耗的时间为 0.6208311557769776\n",
      "平均消耗的时间为 0.624570631980896\n",
      "平均消耗的时间为 0.6167545557022095\n",
      "平均消耗的时间为 0.6251826047897339\n",
      "平均消耗的时间为 0.63270103931427\n",
      "平均消耗的时间为 0.6264210224151612\n"
     ]
    }
   ],
   "source": [
    "#coding:utf-8\n",
    "from sklearn.neighbors import KernelDensity\n",
    "import os\n",
    "import sys\n",
    "import numpy as np\n",
    "import time\n",
    "import pickle\n",
    "\n",
    "\n",
    "def unpickle(file):\n",
    "    import pickle\n",
    "    with open(file, 'rb') as fo:\n",
    "        dict = pickle.load(fo, encoding='bytes')\n",
    "    return dict\n",
    "# 读取训练数据集\n",
    "train_x = []\n",
    "train_y = []\n",
    "for i in range(5):\n",
    "    file = \"./dataSet/data_batch_%d\"%(i+1)\n",
    "    dicts = unpickle(file)\n",
    "    labels = dicts[b'labels']\n",
    "    data = dicts[b'data'].reshape(-1, 3, 32, 32) # 3*32x32\n",
    "    data = data.transpose(0,2,3,1)\n",
    "\n",
    "for j in range(len(labels)):\n",
    "    img_data = data[j]\n",
    "    label = labels[j]\n",
    "    train_x.append(img_data)\n",
    "    train_y.append(label)\n",
    "# 读取测试数据集\n",
    "test_x = []\n",
    "test_y = []\n",
    "for i in range(1):\n",
    "    # file = \"./data_batch_%d\"%(i+1)\n",
    "    file = \"./dataSet/test_batch\"\n",
    "    dicts = unpickle(file)\n",
    "    labels = dicts[b'labels']\n",
    "    data = dicts[b'data'].reshape(-1, 3, 32, 32) # 3*32x32\n",
    "    data = data.transpose(0,2,3,1)\n",
    "\n",
    "    for j in range(len(labels)):\n",
    "        img_data = data[j]\n",
    "        label = labels[j]\n",
    "        test_x.append(img_data)\n",
    "        test_y.append(label)\n",
    "train_x = np.array(train_x)\n",
    "train_y = np.array(train_y)\n",
    "test_x = np.array(test_x)\n",
    "test_y = np.array(test_y)\n",
    "\n",
    "nomal_label = 0\n",
    "norm_train_x = train_x[train_y == nomal_label]\n",
    "norm_train_x = norm_train_x.flatten()\n",
    "norm_train_x = norm_train_x.reshape(-1, 3072)\n",
    "\n",
    "test_x = test_x.flatten()\n",
    "test_x = test_x.reshape(-1, 3072)\n",
    "\n",
    "\n",
    "# 核密度估计 1 'tophat KDE'\n",
    "kde = KernelDensity(kernel='tophat', bandwidth=0.75).fit(norm_train_x)#什么是带宽\n",
    "for i in range(10):\n",
    "    start_time = time.time()\n",
    "    log_dens = kde.score_samples(test_x)\n",
    "    print(\"平均消耗的时间为\", ((time.time()-start_time) / test_x.shape[0]*1000))"
   ]
  },
  {
   "cell_type": "code",
   "execution_count": null,
   "metadata": {},
   "outputs": [],
   "source": []
  }
 ],
 "metadata": {
  "kernelspec": {
   "display_name": "Python 3 (ipykernel)",
   "language": "python",
   "name": "python3"
  },
  "language_info": {
   "codemirror_mode": {
    "name": "ipython",
    "version": 3
   },
   "file_extension": ".py",
   "mimetype": "text/x-python",
   "name": "python",
   "nbconvert_exporter": "python",
   "pygments_lexer": "ipython3",
   "version": "3.9.7"
  }
 },
 "nbformat": 4,
 "nbformat_minor": 4
}
